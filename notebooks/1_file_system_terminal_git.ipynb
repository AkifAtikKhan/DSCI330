{
 "cells": [
  {
   "cell_type": "markdown",
   "metadata": {
    "slideshow": {
     "slide_type": "slide"
    }
   },
   "source": [
    "# DSCI 330 - The Management of Unstructured Data"
   ]
  },
  {
   "cell_type": "markdown",
   "metadata": {
    "slideshow": {
     "slide_type": "slide"
    }
   },
   "source": [
    "## Structured and Unstructured Data\n",
    "\n",
    "* **Structured Data** fits in a table/database\n",
    "* All other data is **unstructured**\n",
    "* Examples\n",
    "    * Web pages, XML, JSON\n",
    "    * Text\n",
    "    * Audio/Music\n",
    "    * Images and Video"
   ]
  },
  {
   "cell_type": "markdown",
   "metadata": {
    "slideshow": {
     "slide_type": "slide"
    }
   },
   "source": [
    "## Python\n",
    "\n",
    "* Popular programming language in DSCI\n",
    "* Features\n",
    "    * Multi-paradigm\n",
    "    * Interpreted\n",
    "    * Extensible\n",
    "    * Strongly, dynamically typed\n",
    "    * Free\n",
    "    * Many DSCI-related libraries"
   ]
  },
  {
   "cell_type": "markdown",
   "metadata": {
    "slideshow": {
     "slide_type": "slide"
    }
   },
   "source": [
    "## Sources of Unstructured Data\n",
    "\n",
    "* Claims/Transactions\n",
    "* Hieracrhical Data\n",
    "* Multidimensional Data"
   ]
  },
  {
   "cell_type": "markdown",
   "metadata": {
    "slideshow": {
     "slide_type": "slide"
    }
   },
   "source": [
    "## Claims Data\n",
    "\n",
    "<img src=\"./img/transactions.png\">"
   ]
  },
  {
   "cell_type": "markdown",
   "metadata": {
    "slideshow": {
     "slide_type": "slide"
    }
   },
   "source": [
    "## Hierarchical Data\n",
    "\n",
    "* Type/number of some variables depend on others"
   ]
  },
  {
   "cell_type": "code",
   "execution_count": null,
   "metadata": {
    "slideshow": {
     "slide_type": "fragment"
    }
   },
   "outputs": [],
   "source": [
    "houses = [{\"Garage\":None},\n",
    "          {\"Garage\":{\"Cars\":2,\n",
    "                     \"Size\":500}}]"
   ]
  },
  {
   "cell_type": "markdown",
   "metadata": {
    "slideshow": {
     "slide_type": "slide"
    }
   },
   "source": [
    "## Multidimensional Data\n",
    "\n",
    "<img src=\"https://www.codeproject.com/KB/graphics/Face_Recognition/Main1.jpg\">"
   ]
  },
  {
   "cell_type": "markdown",
   "metadata": {
    "slideshow": {
     "slide_type": "slide"
    }
   },
   "source": [
    "## Examples\n",
    "\n",
    "* Web scraping [The Current](https://github.com/WSU-DataScience/WiCS_workshop/blob/master/labs/case_study_1_the_current_key_short.ipynb)\n",
    "* Music: [Music Alignment](https://github.com/stevetjoa/musicinformationretrieval.com/blob/gh-pages/dtw_example.ipynb)\n",
    "* Images: [Edge Detection](https://github.com/dalgu90/opencv-tutorial/blob/master/2_edge_detection.ipynb)"
   ]
  },
  {
   "cell_type": "markdown",
   "metadata": {
    "slideshow": {
     "slide_type": "slide"
    }
   },
   "source": [
    "# The File System and Command Line Interaction"
   ]
  },
  {
   "cell_type": "markdown",
   "metadata": {
    "slideshow": {
     "slide_type": "slide"
    }
   },
   "source": [
    "## The CommandLine\n",
    "\n",
    "* Text interactions with OS: \n",
    "    * Type commands\n",
    "        * Execute commands\n",
    "        * Run another program\n",
    "    * Displaying the output\n",
    "* Three Windows command line tools\n",
    "    * cmd.exe\n",
    "    * Powershell.exe\n",
    "    * Git Bash (Same as osX/Linux)\n",
    "* Our focus: Linux/Unix/osX Terminal"
   ]
  },
  {
   "cell_type": "markdown",
   "metadata": {
    "slideshow": {
     "slide_type": "slide"
    }
   },
   "source": [
    "## Installing Git and Git Bash \n",
    "\n",
    "* Follow the instructions on https://git-scm.com/book/en/v2/Getting-Started-Installing-Git"
   ]
  },
  {
   "cell_type": "markdown",
   "metadata": {
    "slideshow": {
     "slide_type": "slide"
    }
   },
   "source": [
    "## The File System\n",
    "\n",
    "Consists of\n",
    "\n",
    "* Files\n",
    "* Directories\n",
    "* \"Everything that doesn't go away when you reboot\""
   ]
  },
  {
   "cell_type": "markdown",
   "metadata": {
    "slideshow": {
     "slide_type": "slide"
    }
   },
   "source": [
    "## Files\n",
    "\n",
    "* Have two part names, like \n",
    "    * notes.txt or home.html\n",
    "    \n",
    "        <img src=\"./img/file_ext.png\">\n",
    "        "
   ]
  },
  {
   "cell_type": "markdown",
   "metadata": {
    "slideshow": {
     "slide_type": "slide"
    }
   },
   "source": [
    "## File Extension \n",
    "\n",
    "* Tells computer how to open\n",
    "    * .txt  →  editor\n",
    "    * .html → browser\n",
    "* File extension in linux are options \n",
    "    * but encouraged"
   ]
  },
  {
   "cell_type": "markdown",
   "metadata": {
    "slideshow": {
     "slide_type": "slide"
    }
   },
   "source": [
    "## The File System is a Tree\n",
    "\n",
    "* Files are stored in directories \n",
    "* Directories contain \n",
    "    * files \n",
    "    * directories\n",
    "* Result: directory tree\n",
    "* In one directory \n",
    "    * → unique names\n",
    "* Different directories \n",
    "    * → can have same name"
   ]
  },
  {
   "cell_type": "markdown",
   "metadata": {
    "slideshow": {
     "slide_type": "slide"
    }
   },
   "source": [
    "## Important bash Commands\n",
    "\n",
    "<img src=\"./img/bash_cmds.png\">"
   ]
  },
  {
   "cell_type": "code",
   "execution_count": null,
   "metadata": {
    "slideshow": {
     "slide_type": "slide"
    }
   },
   "outputs": [],
   "source": [
    "pwd\n",
    "cd ~\n",
    "pwd\n",
    "ls -al"
   ]
  },
  {
   "cell_type": "markdown",
   "metadata": {
    "slideshow": {
     "slide_type": "slide"
    }
   },
   "source": [
    "## Exercise -Make the Folders\n",
    "\n",
    "<img src=\"http://www.cgl.ucsf.edu/Outreach/bmi219/slides/swc/lec/img/shell01/directory_tree.png\">"
   ]
  },
  {
   "cell_type": "code",
   "execution_count": null,
   "metadata": {
    "slideshow": {
     "slide_type": "fragment"
    }
   },
   "outputs": [],
   "source": [
    "mkdir home\n",
    "mkdir home/hpotter\n",
    "mkdir home/hpotter/thesis\n",
    "mkdir home/rweasley\n",
    "mkdir home/rweasley/thesis"
   ]
  },
  {
   "cell_type": "markdown",
   "metadata": {
    "slideshow": {
     "slide_type": "slide"
    }
   },
   "source": [
    "## Text Files\n",
    "\n",
    "\n",
    "* **File Extension:** `.txt`\n",
    "    * Can also be `.html`, `.py`, etc.\n",
    "* **Contents:** text and symbols\n",
    "* Create an empty text file with `touch`\n",
    "* Edited with a text editor\n",
    "    * The Jupyter terminal comes with nano"
   ]
  },
  {
   "cell_type": "markdown",
   "metadata": {
    "slideshow": {
     "slide_type": "slide"
    }
   },
   "source": [
    "## Installing `nano` on Windows"
   ]
  },
  {
   "cell_type": "code",
   "execution_count": null,
   "metadata": {
    "slideshow": {
     "slide_type": "fragment"
    }
   },
   "outputs": [],
   "source": [
    "curl -L -O http://www.nano-editor.org/dist/v2.2/NT/nano-2.2.6.zip\n",
    "mkdir ~/bin\n",
    "unzip  nano-2.2.6.zip -d ~/bin/nano\n",
    "~/bin/nano test.txt"
   ]
  },
  {
   "cell_type": "markdown",
   "metadata": {
    "slideshow": {
     "slide_type": "slide"
    }
   },
   "source": [
    "## Exercise - Create the Files"
   ]
  },
  {
   "cell_type": "code",
   "execution_count": null,
   "metadata": {
    "slideshow": {
     "slide_type": "fragment"
    }
   },
   "outputs": [],
   "source": [
    "touch home/hpotter/addresses.html\n",
    "touch home/hpotter/thesis/intro.txt\n",
    "touch home/hpotter/thesis/spells.txt\n",
    "nano home/hpotter/thesis/spells.txt"
   ]
  },
  {
   "cell_type": "markdown",
   "metadata": {
    "slideshow": {
     "slide_type": "slide"
    }
   },
   "source": [
    "## Paths\n",
    "\n",
    "* **Path:** Files location\n",
    "* **Absolute Path:** Full address\n",
    "    * Windows: `C:/nbuser/home/hpotter`\n",
    "    * Mac: `/home/nbuser/home/hpotter/addresses.html`"
   ]
  },
  {
   "cell_type": "markdown",
   "metadata": {
    "slideshow": {
     "slide_type": "slide"
    }
   },
   "source": [
    "## Relative Paths\n",
    "\n",
    "* **Current working directory (CWD)** Program is \"working\" here.  \n",
    "    * Use `pwd` in bash\n",
    "    * Can change over time\n",
    "* **Relative path:** file location relative to CWD"
   ]
  },
  {
   "cell_type": "markdown",
   "metadata": {
    "slideshow": {
     "slide_type": "slide"
    }
   },
   "source": [
    "## Shortcuts\n",
    "\n",
    "* Current Directory: `.`\n",
    "* Parent Directory: `..`\n",
    "* Home: `~`"
   ]
  },
  {
   "cell_type": "markdown",
   "metadata": {
    "slideshow": {
     "slide_type": "slide"
    }
   },
   "source": [
    "## Exercise\n",
    "\n",
    "<img src=\"http://www.cgl.ucsf.edu/Outreach/bmi219/slides/swc/lec/img/shell01/directory_tree.png\">\n",
    "\n",
    "* CWD is `hpotter/thesis`\n",
    "* Where is `spells.txt`?\n",
    "* Where is `rweasley`?"
   ]
  },
  {
   "cell_type": "code",
   "execution_count": null,
   "metadata": {
    "slideshow": {
     "slide_type": "fragment"
    }
   },
   "outputs": [],
   "source": [
    "nano ??\n",
    "cd ??"
   ]
  },
  {
   "cell_type": "markdown",
   "metadata": {
    "slideshow": {
     "slide_type": "slide"
    }
   },
   "source": [
    "## Using paths"
   ]
  },
  {
   "cell_type": "code",
   "execution_count": null,
   "metadata": {
    "slideshow": {
     "slide_type": "fragment"
    }
   },
   "outputs": [],
   "source": [
    "# Navigation\n",
    "cd ../../rweasley/thesis\n",
    "# Edit files\n",
    "nano ./spells.txt"
   ]
  },
  {
   "cell_type": "markdown",
   "metadata": {
    "slideshow": {
     "slide_type": "slide"
    }
   },
   "source": [
    "## Copy and move files\n",
    "\n",
    "* Copy a file with `cp`\n",
    "* Move a file with `mv`"
   ]
  },
  {
   "cell_type": "code",
   "execution_count": null,
   "metadata": {
    "slideshow": {
     "slide_type": "fragment"
    }
   },
   "outputs": [],
   "source": [
    "cp ./spells.txt ../../rweasley/thesis\n",
    "mv ./spells.text ./spells.txt"
   ]
  },
  {
   "cell_type": "markdown",
   "metadata": {
    "slideshow": {
     "slide_type": "slide"
    }
   },
   "source": [
    "## Deleting Files and Folders\n",
    "\n",
    "* Use `rm` to delete files\n",
    "    * `rm -i` gives a prompt\n",
    "    * `rm -f` forces deletion\n",
    "    * `rm -r` recursive"
   ]
  },
  {
   "cell_type": "code",
   "execution_count": null,
   "metadata": {},
   "outputs": [],
   "source": []
  }
 ],
 "metadata": {
  "celltoolbar": "Slideshow",
  "kernelspec": {
   "display_name": "Bash",
   "language": "bash",
   "name": "bash"
  },
  "language_info": {
   "codemirror_mode": "shell",
   "file_extension": ".sh",
   "mimetype": "text/x-sh",
   "name": "bash"
  }
 },
 "nbformat": 4,
 "nbformat_minor": 2
}
